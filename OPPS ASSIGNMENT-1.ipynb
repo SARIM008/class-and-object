{
 "cells": [
  {
   "cell_type": "markdown",
   "id": "c2206852",
   "metadata": {},
   "source": [
    "Problem 1: Bank Account Create a class representing a bank account with attributes like account number, account holder name, and balance. Implement methods to deposit and withdraw money from the account."
   ]
  },
  {
   "cell_type": "code",
   "execution_count": 21,
   "id": "178e892e",
   "metadata": {},
   "outputs": [],
   "source": [
    "class bank:\n",
    "    try:\n",
    "        def __init__(self,acc_number,acc_name):\n",
    "            self.a_number=acc_number\n",
    "            self.a_name=acc_name\n",
    "            self.a_balance=0\n",
    "        def deposit(self):\n",
    "            print(\"Your current balance is   \",self.a_balance)\n",
    "            self.d=int(input(\"enter deposit amount\"))\n",
    "            self.a_balance=self.a_balance+self.d\n",
    "            print(\"amount is deposited your balance is \",self.a_balance)\n",
    "        def withdraw(self):\n",
    "            print(\"Your current balance is    \",self.a_balance)\n",
    "            self.w=int(input(\"enter withdraw amount\"))\n",
    "            self.a_balance=self.a_balance-self.w\n",
    "            print(\"withdrawl successful your balance is \",self.a_balance)\n",
    "    except Exception as e:\n",
    "        print(e)"
   ]
  },
  {
   "cell_type": "code",
   "execution_count": 22,
   "id": "63ed793f",
   "metadata": {},
   "outputs": [],
   "source": [
    "b=bank(7875,\"M Sarim\")"
   ]
  },
  {
   "cell_type": "code",
   "execution_count": 24,
   "id": "6bf58a0c",
   "metadata": {},
   "outputs": [
    {
     "name": "stdout",
     "output_type": "stream",
     "text": [
      "Your current balance is    0\n",
      "enter deposit amount125\n",
      "amount is deposited your balance is  125\n"
     ]
    }
   ],
   "source": [
    "b.deposit()"
   ]
  },
  {
   "cell_type": "code",
   "execution_count": 25,
   "id": "6e5f02fc",
   "metadata": {},
   "outputs": [
    {
     "name": "stdout",
     "output_type": "stream",
     "text": [
      "Your current balance is     125\n",
      "enter withdraw amount10\n",
      "withdrawl successful your balance is  115\n"
     ]
    }
   ],
   "source": [
    "b.withdraw()"
   ]
  },
  {
   "cell_type": "markdown",
   "id": "2d2ff5e1",
   "metadata": {},
   "source": [
    " #Problem 2: Employee Management Create a class representing an employee with attributes like employee ID, name, and salary. Implement methods to calculate the yearly bonus and display employee details."
   ]
  },
  {
   "cell_type": "code",
   "execution_count": 27,
   "id": "31845d24",
   "metadata": {},
   "outputs": [],
   "source": [
    "class employee_management:\n",
    "    def __init__(self,e_id,e_name,salary):\n",
    "        self.id=e_id\n",
    "        self.name=e_name\n",
    "        self.slr=salary\n",
    "    def display_details(self):\n",
    "        print(\"employee ID is\",self.id)\n",
    "        print(\"employee name is\",self.name)\n",
    "        print(\"employee salary is\",self.slr)\n",
    "    def bonus(self):\n",
    "        self.slr=(0.0833*self.slr)+self.slr\n",
    "        print(\"your bonus is\",0.0833*self.slr)"
   ]
  },
  {
   "cell_type": "code",
   "execution_count": 29,
   "id": "166e6f06",
   "metadata": {},
   "outputs": [],
   "source": [
    "em=employee_management(108,\"sarim\",60000)"
   ]
  },
  {
   "cell_type": "code",
   "execution_count": 30,
   "id": "580c3446",
   "metadata": {},
   "outputs": [
    {
     "name": "stdout",
     "output_type": "stream",
     "text": [
      "employee ID is 108\n",
      "employee name is sarim\n",
      "employee salary is 60000\n"
     ]
    }
   ],
   "source": [
    "em.display_details()"
   ]
  },
  {
   "cell_type": "code",
   "execution_count": 31,
   "id": "3e38581c",
   "metadata": {},
   "outputs": [
    {
     "name": "stdout",
     "output_type": "stream",
     "text": [
      "your bonus is 5414.3333999999995\n"
     ]
    }
   ],
   "source": [
    "em.bonus()"
   ]
  },
  {
   "cell_type": "code",
   "execution_count": 32,
   "id": "22715122",
   "metadata": {},
   "outputs": [
    {
     "name": "stdout",
     "output_type": "stream",
     "text": [
      "employee ID is 108\n",
      "employee name is sarim\n",
      "employee salary is 64998.0\n"
     ]
    }
   ],
   "source": [
    "em.display_details()"
   ]
  },
  {
   "cell_type": "markdown",
   "id": "37279e1f",
   "metadata": {},
   "source": [
    "Problem 3: Vehicle Rental Create a class representing a vehicle rental system. Implement methods to rent a vehicle, return a vehicle, and display available vehicles"
   ]
  },
  {
   "cell_type": "code",
   "execution_count": 67,
   "id": "cb33b2fa",
   "metadata": {},
   "outputs": [],
   "source": [
    "class v_rental:\n",
    "    def __init__(self):\n",
    "        self.l=[\"activa\",\"splendor\",\"pulsar\",\"maestro\",\"bullet\",\"R15\",\"Wagonr\",\"Honda city\",\"Scorpio\",\"Fortuner\"]\n",
    "    def rent(self):\n",
    "        print(\"available vehicle are \",self.l)\n",
    "        self.k=input(\"enter the of vehicle name  you want to take \")\n",
    "        if self.k in self.l:\n",
    "            self.l.remove(self.k)\n",
    "            print(self.k,\" is registered for rent \")\n",
    "        else:\n",
    "            print(\"vehicle not available \")\n",
    "    def return_vehicle(self):\n",
    "        self.a=input(\"enter the name of vehicle you are returning \")\n",
    "        self.l.append(self.a)\n",
    "        print(\"vehicle returned successfuly \")\n",
    "    def display(self):        \n",
    "        print(\"vehicle available \",self.l)"
   ]
  },
  {
   "cell_type": "code",
   "execution_count": 68,
   "id": "cf4052eb",
   "metadata": {},
   "outputs": [],
   "source": [
    "vr=v_rental()"
   ]
  },
  {
   "cell_type": "code",
   "execution_count": 69,
   "id": "07c0707c",
   "metadata": {},
   "outputs": [
    {
     "name": "stdout",
     "output_type": "stream",
     "text": [
      "vehicle available  ['activa', 'splendor', 'pulsar', 'maestro', 'bullet', 'R15', 'Wagonr', 'Honda city', 'Scorpio', 'Fortuner']\n"
     ]
    }
   ],
   "source": [
    "vr.display()"
   ]
  },
  {
   "cell_type": "code",
   "execution_count": 70,
   "id": "a0c1d3ef",
   "metadata": {},
   "outputs": [
    {
     "name": "stdout",
     "output_type": "stream",
     "text": [
      "available vehicle are  ['activa', 'splendor', 'pulsar', 'maestro', 'bullet', 'R15', 'Wagonr', 'Honda city', 'Scorpio', 'Fortuner']\n",
      "enter the of vehicle name  you want to take bullet\n",
      "bullet  is registered for rent \n"
     ]
    }
   ],
   "source": [
    "vr.rent()"
   ]
  },
  {
   "cell_type": "code",
   "execution_count": 71,
   "id": "50aa15ee",
   "metadata": {},
   "outputs": [
    {
     "name": "stdout",
     "output_type": "stream",
     "text": [
      "vehicle available  ['activa', 'splendor', 'pulsar', 'maestro', 'R15', 'Wagonr', 'Honda city', 'Scorpio', 'Fortuner']\n"
     ]
    }
   ],
   "source": [
    "vr.display()"
   ]
  },
  {
   "cell_type": "code",
   "execution_count": 72,
   "id": "1acacb44",
   "metadata": {},
   "outputs": [
    {
     "name": "stdout",
     "output_type": "stream",
     "text": [
      "enter the name of vehicle you are returning bullet\n",
      "vehicle returned successfuly \n"
     ]
    }
   ],
   "source": [
    "vr.return_vehicle()"
   ]
  },
  {
   "cell_type": "markdown",
   "id": "b3319308",
   "metadata": {},
   "source": [
    "\n",
    "Problem 4: Library Catalog Create classes representing a library and a book. Implement methods to add books to the library, borrow books, and display available books."
   ]
  },
  {
   "cell_type": "code",
   "execution_count": 73,
   "id": "9cce3a3e",
   "metadata": {},
   "outputs": [],
   "source": [
    "class library:\n",
    "    def __init__(self):\n",
    "        self.book=[\"The Hundred-Page Machine Learning Book\",\"Python for Data Analysis\",\"Introduction to Statistical Learning\",\"Hands-On Machine Learning with Scikit-Learn, Keras, and TensorFlow\"]\n",
    "    def add_book(self):\n",
    "        self.a=input(\"enter the book you want to add\")\n",
    "        if self.a in self.book:\n",
    "            print(\"book is already there\")\n",
    "        else:\n",
    "            self.book.append(self.a)\n",
    "            print(\"added successfully\")\n",
    "    def borrow_book(self):\n",
    "        self.b=input(\"enter the book name you want\")\n",
    "        if self.b in self.book:\n",
    "            self.book.remove(self.b)\n",
    "            print(\"book alloted\")\n",
    "        else:\n",
    "            print(\"book not available\")\n",
    "    def display(self):\n",
    "        print(\"available books are\",self.book)"
   ]
  },
  {
   "cell_type": "code",
   "execution_count": 74,
   "id": "3298e373",
   "metadata": {},
   "outputs": [],
   "source": [
    "l=library()"
   ]
  },
  {
   "cell_type": "code",
   "execution_count": 75,
   "id": "4cd82d42",
   "metadata": {},
   "outputs": [
    {
     "name": "stdout",
     "output_type": "stream",
     "text": [
      "available books are ['The Hundred-Page Machine Learning Book', 'Python for Data Analysis', 'Introduction to Statistical Learning', 'Hands-On Machine Learning with Scikit-Learn, Keras, and TensorFlow']\n"
     ]
    }
   ],
   "source": [
    "l.display()"
   ]
  },
  {
   "cell_type": "markdown",
   "id": "f887fd79",
   "metadata": {},
   "source": [
    "Problem 5:-Product Inventory Create classes representing a product and an inventory system. Implement methods to add products to the inventory, update product quantity, and display available products."
   ]
  },
  {
   "cell_type": "code",
   "execution_count": 76,
   "id": "b7c2e2ed",
   "metadata": {},
   "outputs": [],
   "source": [
    "class Product:\n",
    "    def __init__(self, name, quantity):\n",
    "        self.name = name\n",
    "        self.quantity = quantity\n",
    "\n",
    "    def __str__(self):\n",
    "        return f\"{self.name} - {self.quantity} items available\"\n",
    "\n",
    "class InventorySystem:\n",
    "    def __init__(self):\n",
    "        self.products = {}\n",
    "\n",
    "    def add_product(self, product):\n",
    "        if product.name not in self.products:\n",
    "            self.products[product.name] = product\n",
    "        else:\n",
    "            self.products[product.name].quantity += product.quantity\n",
    "\n",
    "    def update_product_quantity(self, product_name, quantity):\n",
    "        if product_name in self.products:\n",
    "            self.products[product_name].quantity = quantity\n",
    "\n",
    "    def display_available_products(self):\n",
    "        for product in self.products.values():\n",
    "            print(product)"
   ]
  },
  {
   "cell_type": "markdown",
   "id": "3443b577",
   "metadata": {},
   "source": [
    "Problem 6: Shape Calculation Create a class representing a shape with attributes like length, width, and height. Implement methods to calculate the area and perimeter of the shape"
   ]
  },
  {
   "cell_type": "code",
   "execution_count": 77,
   "id": "11790e7f",
   "metadata": {},
   "outputs": [],
   "source": [
    "class Shape:\n",
    "    def __init__(self, length, width, height):\n",
    "        self.length = length\n",
    "        self.width = width\n",
    "        self.height = height\n",
    "\n",
    "    def calculate_area(self):\n",
    "        raise NotImplementedError\n",
    "\n",
    "    def calculate_perimeter(self):\n",
    "        raise NotImplementedError\n",
    "class Rectangle(Shape):\n",
    "    def calculate_area(self):\n",
    "        return self.length * self.width\n",
    "\n",
    "    def calculate_perimeter(self):\n",
    "        return 2 * (self.length + self.width)\n",
    "class Cube(Shape):\n",
    "    def calculate_area(self):\n",
    "        return self.length * self.width * 6\n",
    "\n",
    "    def calculate_perimeter(self):\n",
    "        return 4 * self.length"
   ]
  },
  {
   "cell_type": "code",
   "execution_count": 79,
   "id": "68e72e32",
   "metadata": {},
   "outputs": [
    {
     "name": "stdout",
     "output_type": "stream",
     "text": [
      "24\n",
      "20\n"
     ]
    }
   ],
   "source": [
    "rectangle = Rectangle(4, 6,0)\n",
    "print(rectangle.calculate_area())\n",
    "print(rectangle.calculate_perimeter())"
   ]
  },
  {
   "cell_type": "markdown",
   "id": "75caa6ff",
   "metadata": {},
   "source": [
    "Problem 7: Student Management Create a class representing a student with attributes like student ID, name, and grades. Implement methods to calculate the average grade and display student details."
   ]
  },
  {
   "cell_type": "code",
   "execution_count": 80,
   "id": "a6771cca",
   "metadata": {},
   "outputs": [],
   "source": [
    "class Student:\n",
    "    def __init__(self, student_id, name, grades):\n",
    "        self.student_id = student_id\n",
    "        self.name = name\n",
    "        self.grades = grades\n",
    "\n",
    "    def calculate_average_grade(self):\n",
    "        return sum(self.grades) / len(self.grades)\n",
    "\n",
    "    def display_student_details(self):\n",
    "        print(f\"Student ID: {self.student_id}\")\n",
    "        print(f\"Name: {self.name}\")\n",
    "        print(f\"Average Grade: {self.calculate_average_grade()}\")"
   ]
  },
  {
   "cell_type": "code",
   "execution_count": 81,
   "id": "fb6b250e",
   "metadata": {},
   "outputs": [
    {
     "name": "stdout",
     "output_type": "stream",
     "text": [
      "Student ID: 21\n",
      "Name: Sarim\n",
      "Average Grade: 91.33333333333333\n"
     ]
    }
   ],
   "source": [
    "student = Student(21, \"Sarim\", [90, 96, 88])\n",
    "student.display_student_details()"
   ]
  },
  {
   "cell_type": "markdown",
   "id": "929626fe",
   "metadata": {},
   "source": [
    "Problem 8: Email Management Create a class representing an email with attributes like sender, recipient, and subject. Implement methods to send an email and display email details."
   ]
  },
  {
   "cell_type": "code",
   "execution_count": 82,
   "id": "ad291487",
   "metadata": {},
   "outputs": [],
   "source": [
    "class Email:\n",
    "    def __init__(self, sender, recipient, subject, body):\n",
    "        self.sender = sender\n",
    "        self.recipient = recipient\n",
    "        self.subject = subject\n",
    "        self.body = body\n",
    "\n",
    "    def send_email(self):\n",
    "        print('Simulating sending of email')\n",
    "        print(f\"From: {self.sender}\")\n",
    "        print(f\"To: {self.recipient}\")\n",
    "        print(f\"Subject: {self.subject}\")\n",
    "        print(f\"Body: {self.body}\")\n",
    "\n",
    "    def display_email_details(self):\n",
    "        print(f\"From: {self.sender}\")\n",
    "        print(f\"To: {self.recipient}\")\n",
    "        print(f\"Subject: {self.subject}\")\n",
    "        print(f\"Body: {self.body}\")"
   ]
  },
  {
   "cell_type": "code",
   "execution_count": 83,
   "id": "5192e349",
   "metadata": {},
   "outputs": [
    {
     "name": "stdout",
     "output_type": "stream",
     "text": [
      "Simulating sending of email\n",
      "From: sender@gmail.com\n",
      "To: recipient@gmail.com\n",
      "Subject: Hello\n",
      "Body: Testing chal rahi hai bhai\n"
     ]
    }
   ],
   "source": [
    "email = Email(\"sender@gmail.com\", \"recipient@gmail.com\", \"Hello\", \"Testing chal rahi hai bhai\")\n",
    "email.send_email()"
   ]
  },
  {
   "cell_type": "markdown",
   "id": "aca0bb9d",
   "metadata": {},
   "source": [
    "Problem 9: Social Media Profile Create a class representing a social media profile with attributes like username and posts. Implement methods to add posts, display posts, and search for posts by keyword."
   ]
  },
  {
   "cell_type": "code",
   "execution_count": 84,
   "id": "2f06a252",
   "metadata": {},
   "outputs": [],
   "source": [
    "class SocialMediaProfile:\n",
    "    def __init__(self, username):\n",
    "        self.username = username\n",
    "        self.posts = []\n",
    "\n",
    "    def add_post(self, post):\n",
    "        self.posts.append(post)\n",
    "\n",
    "    def display_posts(self):\n",
    "        for post in self.posts:\n",
    "            print(post)\n",
    "\n",
    "    def search_posts(self, keyword):\n",
    "        matching_posts = [post for post in self.posts if keyword in post]\n",
    "        if matching_posts:\n",
    "            print(\"Posts containing the keyword '{}':\".format(keyword))\n",
    "            for post in matching_posts:\n",
    "                print(post)\n",
    "        else:\n",
    "            print(\"No posts found containing the keyword '{}'.\".format(keyword))"
   ]
  },
  {
   "cell_type": "code",
   "execution_count": 85,
   "id": "078172fc",
   "metadata": {},
   "outputs": [
    {
     "name": "stdout",
     "output_type": "stream",
     "text": [
      "I am doing oops assignment!\n",
      "This weekend, I'm going to do flask project\n",
      "Posts containing the keyword 'flask':\n",
      "This weekend, I'm going to do flask project\n"
     ]
    }
   ],
   "source": [
    "profile = SocialMediaProfile(\"user008\")\n",
    "profile.add_post(\"I am doing oops assignment!\")\n",
    "profile.add_post(\"This weekend, I'm going to do flask project\")\n",
    "profile.display_posts()\n",
    "profile.search_posts(\"flask\")"
   ]
  },
  {
   "cell_type": "markdown",
   "id": "f5fb3c5a",
   "metadata": {},
   "source": [
    "Problem 10: ToDo List Create a class representing a ToDo list with attributes like tasks and due dates. Implement methods to add tasks, mark tasks as completed, and display pending tasks."
   ]
  },
  {
   "cell_type": "code",
   "execution_count": 86,
   "id": "6de43bdb",
   "metadata": {},
   "outputs": [],
   "source": [
    "class ToDoList:\n",
    "    def __init__(self):\n",
    "        self.tasks = []\n",
    "\n",
    "    def add_task(self, task, due_date):\n",
    "        self.tasks.append({\"task\": task, \"due_date\": due_date, \"completed\": False})\n",
    "\n",
    "    def mark_completed(self, task):\n",
    "        for t in self.tasks:\n",
    "            if t[\"task\"] == task:\n",
    "                t[\"completed\"] = True\n",
    "                break\n",
    "\n",
    "    def display_pending_tasks(self):\n",
    "        pending_tasks = [task for task in self.tasks if not task[\"completed\"]]\n",
    "        if pending_tasks:\n",
    "            print(\"Pending tasks:\")\n",
    "            for task in pending_tasks:\n",
    "                print(\"{} (Due: {})\".format(task[\"task\"], task[\"due_date\"]))\n",
    "        else:\n",
    "            print(\"No pending tasks.\")"
   ]
  },
  {
   "cell_type": "code",
   "execution_count": 88,
   "id": "4b9b0554",
   "metadata": {},
   "outputs": [
    {
     "name": "stdout",
     "output_type": "stream",
     "text": [
      "Pending tasks:\n",
      "watch oops second video (Due: 2024-01-10)\n"
     ]
    }
   ],
   "source": [
    "todo_list = ToDoList()\n",
    "todo_list.add_task(\"do assigment 1 of oops\", \"2024-01-09\")\n",
    "todo_list.add_task(\"watch oops second video\", \"2024-01-10\")\n",
    "todo_list.mark_completed(\"do assigment 1 of oops\")\n",
    "todo_list.display_pending_tasks()"
   ]
  },
  {
   "cell_type": "code",
   "execution_count": null,
   "id": "6346bcf9",
   "metadata": {},
   "outputs": [],
   "source": []
  }
 ],
 "metadata": {
  "kernelspec": {
   "display_name": "Python 3 (ipykernel)",
   "language": "python",
   "name": "python3"
  },
  "language_info": {
   "codemirror_mode": {
    "name": "ipython",
    "version": 3
   },
   "file_extension": ".py",
   "mimetype": "text/x-python",
   "name": "python",
   "nbconvert_exporter": "python",
   "pygments_lexer": "ipython3",
   "version": "3.10.9"
  }
 },
 "nbformat": 4,
 "nbformat_minor": 5
}
